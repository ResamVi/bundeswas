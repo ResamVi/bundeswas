{
 "cells": [
  {
   "cell_type": "code",
   "execution_count": 2,
   "id": "7c73b291-493f-4d5d-b21a-1d30829fee9b",
   "metadata": {},
   "outputs": [
    {
     "name": "stderr",
     "output_type": "stream",
     "text": [
      "/usr/lib/python3/dist-packages/requests/__init__.py:89: RequestsDependencyWarning: urllib3 (1.25.8) or chardet (4.0.0) doesn't match a supported version!\n",
      "  warnings.warn(\"urllib3 ({}) or chardet ({}) doesn't match a supported \"\n"
     ]
    },
    {
     "name": "stdout",
     "output_type": "stream",
     "text": [
      "['tok2vec', 'tagger', 'morphologizer', 'parser', 'lemmatizer', 'attribute_ruler', 'ner']\n"
     ]
    }
   ],
   "source": [
    "text = \"\"\"\n",
    "Sehr geehrte Damen und Herren! Liebe Kolleginnen\n",
    "und Kollegen! Ich wünsche allen einen schönen guten\n",
    "Morgen. Die Sitzung ist eröffnet.\n",
    "Vor Eintritt in die Tagesordnung gratuliere ich nachträglich der Kollegin Heike Brehmer zu ihrem 60. Geburtstag. Im Namen des ganzen Hauses alles Gute!\n",
    "\"\"\"\n",
    "\n",
    "import spacy\n",
    "\n",
    "nlp = spacy.load(\"de_core_news_sm\")\n",
    "doc = nlp(text)\n",
    "\n",
    "# used pipes\n",
    "print(nlp.pipe_names)"
   ]
  }
 ],
 "metadata": {
  "kernelspec": {
   "display_name": "Python 3 (ipykernel)",
   "language": "python",
   "name": "python3"
  },
  "language_info": {
   "codemirror_mode": {
    "name": "ipython",
    "version": 3
   },
   "file_extension": ".py",
   "mimetype": "text/x-python",
   "name": "python",
   "nbconvert_exporter": "python",
   "pygments_lexer": "ipython3",
   "version": "3.8.10"
  }
 },
 "nbformat": 4,
 "nbformat_minor": 5
}
