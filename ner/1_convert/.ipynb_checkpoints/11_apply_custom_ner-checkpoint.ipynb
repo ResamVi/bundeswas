{
 "cells": [
  {
   "cell_type": "code",
   "execution_count": 1,
   "id": "0af66e86-31af-46c8-9195-e7befbe5de5a",
   "metadata": {},
   "outputs": [
    {
     "data": {
      "text/html": [
       "<span class=\"tex2jax_ignore\"><div class=\"entities\" style=\"line-height: 2.5; direction: ltr\">\n",
       "<mark class=\"entity\" style=\"background: #7DF6D9; padding: 0.45em 0.6em; margin: 0 0.25em; line-height: 1; border-radius: 0.35em;\">\n",
       "    Antiretroviral therapy\n",
       "    <span style=\"font-size: 0.8em; font-weight: bold; line-height: 1; border-radius: 0.35em; vertical-align: middle; margin-left: 0.5rem\">MEDICINE</span>\n",
       "</mark>\n",
       " (\n",
       "<mark class=\"entity\" style=\"background: #7DF6D9; padding: 0.45em 0.6em; margin: 0 0.25em; line-height: 1; border-radius: 0.35em;\">\n",
       "    ART\n",
       "    <span style=\"font-size: 0.8em; font-weight: bold; line-height: 1; border-radius: 0.35em; vertical-align: middle; margin-left: 0.5rem\">MEDICINE</span>\n",
       "</mark>\n",
       ") is recommended for all HIV-infectedindividuals to reduce the risk of disease progression.</br>\n",
       "<mark class=\"entity\" style=\"background: #7DF6D9; padding: 0.45em 0.6em; margin: 0 0.25em; line-height: 1; border-radius: 0.35em;\">\n",
       "    ART\n",
       "    <span style=\"font-size: 0.8em; font-weight: bold; line-height: 1; border-radius: 0.35em; vertical-align: middle; margin-left: 0.5rem\">MEDICINE</span>\n",
       "</mark>\n",
       " also is recommended for HIV-infected individuals for the prevention of transmission of \n",
       "<mark class=\"entity\" style=\"background: #F67DE3; padding: 0.45em 0.6em; margin: 0 0.25em; line-height: 1; border-radius: 0.35em;\">\n",
       "    HIV\n",
       "    <span style=\"font-size: 0.8em; font-weight: bold; line-height: 1; border-radius: 0.35em; vertical-align: middle; margin-left: 0.5rem\">PATHOGEN</span>\n",
       "</mark>\n",
       ".</br>Patients starting \n",
       "<mark class=\"entity\" style=\"background: #7DF6D9; padding: 0.45em 0.6em; margin: 0 0.25em; line-height: 1; border-radius: 0.35em;\">\n",
       "    ART\n",
       "    <span style=\"font-size: 0.8em; font-weight: bold; line-height: 1; border-radius: 0.35em; vertical-align: middle; margin-left: 0.5rem\">MEDICINE</span>\n",
       "</mark>\n",
       " should be willing and able to commit to treatment and understand thebenefits and risks of therapy and the importance of adherence. Patients may chooseto postpone therapy, and providers, on a case-by-case basis, may elect to defertherapy on the basis of clinical and/or psychosocial factors.</div></span>"
      ],
      "text/plain": [
       "<IPython.core.display.HTML object>"
      ]
     },
     "metadata": {},
     "output_type": "display_data"
    }
   ],
   "source": [
    "import spacy\n",
    "\n",
    "nlp_ner = spacy.load(\"model-best\")\n",
    "\n",
    "doc = nlp_ner(\"Antiretroviral therapy (ART) is recommended for all HIV-infected\\\n",
    "individuals to reduce the risk of disease progression.\\nART also is recommended \\\n",
    "for HIV-infected individuals for the prevention of transmission of HIV.\\nPatients \\\n",
    "starting ART should be willing and able to commit to treatment and understand the\\\n",
    "benefits and risks of therapy and the importance of adherence. Patients may choose\\\n",
    "to postpone therapy, and providers, on a case-by-case basis, may elect to defer\\\n",
    "therapy on the basis of clinical and/or psychosocial factors.\")\n",
    "\n",
    "colors = {\"PATHOGEN\": \"#F67DE3\", \"MEDICINE\": \"#7DF6D9\", \"MEDICALCONDITION\":\"#FFFFFF\"}\n",
    "options = {\"colors\": colors} \n",
    "\n",
    "spacy.displacy.render(doc, style=\"ent\", options= options, jupyter=True)"
   ]
  }
 ],
 "metadata": {
  "kernelspec": {
   "display_name": "Python 3 (ipykernel)",
   "language": "python",
   "name": "python3"
  },
  "language_info": {
   "codemirror_mode": {
    "name": "ipython",
    "version": 3
   },
   "file_extension": ".py",
   "mimetype": "text/x-python",
   "name": "python",
   "nbconvert_exporter": "python",
   "pygments_lexer": "ipython3",
   "version": "3.8.10"
  }
 },
 "nbformat": 4,
 "nbformat_minor": 5
}
