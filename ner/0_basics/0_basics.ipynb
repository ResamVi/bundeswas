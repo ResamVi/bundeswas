{
 "cells": [
  {
   "cell_type": "code",
   "execution_count": 4,
   "id": "7c73b291-493f-4d5d-b21a-1d30829fee9b",
   "metadata": {},
   "outputs": [
    {
     "data": {
      "text/html": [
       "<span class=\"tex2jax_ignore\"><div class=\"entities\" style=\"line-height: 2.5; direction: ltr\"></br>Sehr geehrte Damen und Herren! Liebe Kolleginnen</br>und Kollegen! Ich wünsche allen einen schönen guten</br>Morgen. Die Sitzung ist eröffnet.</br>Vor Eintritt in die Tagesordnung gratuliere ich nachträglich der Kollegin \n",
       "<mark class=\"entity\" style=\"background: #ddd; padding: 0.45em 0.6em; margin: 0 0.25em; line-height: 1; border-radius: 0.35em;\">\n",
       "    Heike Brehmer\n",
       "    <span style=\"font-size: 0.8em; font-weight: bold; line-height: 1; border-radius: 0.35em; vertical-align: middle; margin-left: 0.5rem\">PER</span>\n",
       "</mark>\n",
       " zu ihrem 60. Geburtstag. Im Namen des ganzen \n",
       "<mark class=\"entity\" style=\"background: #ddd; padding: 0.45em 0.6em; margin: 0 0.25em; line-height: 1; border-radius: 0.35em;\">\n",
       "    Hauses alles Gute!\n",
       "\n",
       "    <span style=\"font-size: 0.8em; font-weight: bold; line-height: 1; border-radius: 0.35em; vertical-align: middle; margin-left: 0.5rem\">MISC</span>\n",
       "</mark>\n",
       "</div></span>"
      ],
      "text/plain": [
       "<IPython.core.display.HTML object>"
      ]
     },
     "metadata": {},
     "output_type": "display_data"
    }
   ],
   "source": [
    "text = \"\"\"\n",
    "Sehr geehrte Damen und Herren! Liebe Kolleginnen\n",
    "und Kollegen! Ich wünsche allen einen schönen guten\n",
    "Morgen. Die Sitzung ist eröffnet.\n",
    "Vor Eintritt in die Tagesordnung gratuliere ich nachträglich der Kollegin Heike Brehmer zu ihrem 60. Geburtstag. Im Namen des ganzen Hauses alles Gute!\n",
    "\"\"\"\n",
    "\n",
    "import spacy\n",
    "from spacy import displacy\n",
    "\n",
    "nlp = spacy.load(\"de_core_news_sm\")\n",
    "doc = nlp(text)\n",
    "\n",
    "# used pipes\n",
    "# print(nlp.pipe_names)\n",
    "\n",
    "displacy.render(doc, style=\"ent\", jupyter=True)"
   ]
  },
  {
   "cell_type": "code",
   "execution_count": null,
   "id": "4d5bbf0e-5699-4e8a-9d46-ab9cc451ce93",
   "metadata": {},
   "outputs": [],
   "source": []
  }
 ],
 "metadata": {
  "kernelspec": {
   "display_name": "Python 3 (ipykernel)",
   "language": "python",
   "name": "python3"
  },
  "language_info": {
   "codemirror_mode": {
    "name": "ipython",
    "version": 3
   },
   "file_extension": ".py",
   "mimetype": "text/x-python",
   "name": "python",
   "nbconvert_exporter": "python",
   "pygments_lexer": "ipython3",
   "version": "3.8.10"
  }
 },
 "nbformat": 4,
 "nbformat_minor": 5
}
