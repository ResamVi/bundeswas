{
 "cells": [
  {
   "cell_type": "code",
   "execution_count": 1,
   "id": "1af45b70-3bc7-4d0b-8cad-6a7522a41059",
   "metadata": {},
   "outputs": [
    {
     "name": "stdout",
     "output_type": "stream",
     "text": [
      "25\n"
     ]
    }
   ],
   "source": [
    "# Generate a config from https://spacy.io/usage/training#quickstart\n",
    "# Using [ner]\n",
    "#\n",
    "# Followed by the command\n",
    "# python3 -m spacy init fill-config base_config.cfg config.cfg\n",
    "#\n",
    "# Then start training with\n",
    "# python3 -m spacy train config.cfg --output ./output --paths.train ./train.spacy --paths.dev ./train.spacy\n",
    "import json\n",
    "import spacy\n",
    "from spacy.tokens import DocBin\n",
    "\n",
    "file = open(\"labels.json\", \"r\")\n",
    "content = json.load(file)\n",
    "\n",
    "# Print how content looks like in file\n",
    "# json.dumps(content[0])\n",
    "\n",
    "# start\n",
    "# end\n",
    "# text\n",
    "# labels\n",
    "#print(content[0][\"annotations\"][0][\"result\"][0][\"value\"])\n",
    "\n",
    "# print(len(content))                              # 1\n",
    "# print(len(content[0][\"annotations\"]))            # 1\n",
    "# print(len(content[0][\"annotations\"][0][\"result\"])) # 25\n",
    "\n",
    "#print(content[0][\"annotations\"][0][\"result\"])\n",
    "\n",
    "# We don't need all that metadata that is found in an entry.\n",
    "# TODO: When we have *multiple tasks* in Label Studio we can't take the 0th\n",
    "data = content[0][\"annotations\"][0][\"result\"]\n",
    "\n",
    "\n",
    "fulltext = content[0][\"data\"][\"text\"]\n",
    "\n",
    "# Intermediate step. Put the relevant data in a tuple\n",
    "training = []\n",
    "for datum in data:\n",
    "    value = datum[\"value\"]\n",
    "    # we only have a single, non-overlapping label, meaning we can take the 0th \n",
    "    \n",
    "    entry = (value[\"start\"], value[\"end\"], value[\"text\"], value[\"labels\"][0])\n",
    "    training.append(entry)\n",
    "\n",
    "# Generate SpaCy DocBin\n",
    "nlp = spacy.blank(\"de\")\n",
    "\n",
    "print(len(training))\n",
    "\n",
    "doc_bin = DocBin()\n",
    "for entry in training:\n",
    "    start, end, text, label = entry\n",
    "    \n",
    "    doc = nlp.make_doc(fulltext)\n",
    "    span = doc.char_span(start, end, label=label, alignment_mode=\"contract\") \n",
    "    \n",
    "    doc.ents = [span]\n",
    "    doc_bin.add(doc)\n",
    "    \n",
    "doc_bin.to_disk(\"train.spacy\")"
   ]
  },
  {
   "cell_type": "code",
   "execution_count": null,
   "id": "a0ea5dbe-3d35-4f5c-86aa-fba22d513a37",
   "metadata": {},
   "outputs": [],
   "source": []
  }
 ],
 "metadata": {
  "kernelspec": {
   "display_name": "Python 3 (ipykernel)",
   "language": "python",
   "name": "python3"
  },
  "language_info": {
   "codemirror_mode": {
    "name": "ipython",
    "version": 3
   },
   "file_extension": ".py",
   "mimetype": "text/x-python",
   "name": "python",
   "nbconvert_exporter": "python",
   "pygments_lexer": "ipython3",
   "version": "3.8.10"
  }
 },
 "nbformat": 4,
 "nbformat_minor": 5
}
